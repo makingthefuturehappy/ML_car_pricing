{
 "cells": [
  {
   "cell_type": "markdown",
   "metadata": {
    "heading_collapsed": true
   },
   "source": [
    "# thougths"
   ]
  },
  {
   "cell_type": "markdown",
   "metadata": {
    "hidden": true
   },
   "source": [
    "Test set has only BMW model. This features shall be excluded from the training"
   ]
  },
  {
   "cell_type": "markdown",
   "metadata": {
    "heading_collapsed": true
   },
   "source": [
    "# Libs & DataSets uploads"
   ]
  },
  {
   "cell_type": "code",
   "execution_count": 108,
   "metadata": {
    "ExecuteTime": {
     "end_time": "2020-05-14T09:39:43.525846Z",
     "start_time": "2020-05-14T09:39:43.489156Z"
    },
    "hidden": true
   },
   "outputs": [],
   "source": [
    "import pandas as pd\n",
    "import pandas_profiling\n",
    "from sklearn.preprocessing import LabelEncoder\n",
    "import re\n",
    "import ast # convert string to dict\n",
    "\n",
    "from sklearn.model_selection import train_test_split\n",
    "\n",
    "%matplotlib inline\n",
    "import matplotlib\n",
    "import matplotlib.pyplot as plt\n",
    "\n",
    "import warnings\n",
    "warnings.filterwarnings('ignore')\n",
    "\n",
    "from IPython.display import Audio, display\n",
    "sound = 'https://freesound.org/data/previews/29/29589_215874-lq.mp3'\n",
    "def allDone():\n",
    "    display(Audio(url=sound, autoplay=True))"
   ]
  },
  {
   "cell_type": "markdown",
   "metadata": {
    "hidden": true
   },
   "source": [
    "### Train set upload and NaN cleanup"
   ]
  },
  {
   "cell_type": "code",
   "execution_count": 109,
   "metadata": {
    "ExecuteTime": {
     "end_time": "2020-05-14T09:39:46.934768Z",
     "start_time": "2020-05-14T09:39:43.529334Z"
    },
    "hidden": true
   },
   "outputs": [],
   "source": [
    "file_path = '/Users/alexander/Documents/DataFactory/Projects/Car_Pricing_DataSets/'\n",
    "\n",
    "train_set = pd.read_csv(file_path + 'car_pricing_dataset.csv')"
   ]
  },
  {
   "cell_type": "code",
   "execution_count": 110,
   "metadata": {
    "ExecuteTime": {
     "end_time": "2020-05-14T09:39:47.072416Z",
     "start_time": "2020-05-14T09:39:46.937368Z"
    },
    "hidden": true
   },
   "outputs": [],
   "source": [
    "train_set.dropna(subset=[\n",
    "    'bodyType', 'modelDate', 'name', 'numberOfDoors', 'vehicleConfiguration',\n",
    "    'engineDisplacement', 'enginePower','Привод'\n",
    "], axis=0, inplace = True)\n",
    "\n",
    "train_set['Владельцы'].fillna(2, inplace = True)\n",
    "train_set['ПТС'].fillna('ORIGINAL', inplace = True)\n",
    "train_set['description'].fillna('no_info', inplace = True)\n",
    "train_set['Владение'].fillna('no_info', inplace = True)"
   ]
  },
  {
   "cell_type": "markdown",
   "metadata": {
    "hidden": true
   },
   "source": [
    "### train_set & test_set merge"
   ]
  },
  {
   "cell_type": "code",
   "execution_count": 111,
   "metadata": {
    "ExecuteTime": {
     "end_time": "2020-05-14T09:39:47.560516Z",
     "start_time": "2020-05-14T09:39:47.075211Z"
    },
    "hidden": true
   },
   "outputs": [],
   "source": [
    "test_set = pd.read_csv(file_path + 'test.csv')\n",
    "\n",
    "train_set['sample'] = 1  # mark the train set\n",
    "test_set['sample'] = 0  # mark the test set\n",
    "test_set['Price'] = 0  # define the absent field for the test set as well\n",
    "\n",
    "df = train_set.append(test_set, sort=False).reset_index(drop=True)"
   ]
  },
  {
   "cell_type": "markdown",
   "metadata": {
    "heading_collapsed": true
   },
   "source": [
    "# Test set analysis"
   ]
  },
  {
   "cell_type": "code",
   "execution_count": 112,
   "metadata": {
    "ExecuteTime": {
     "end_time": "2020-05-14T09:39:47.569129Z",
     "start_time": "2020-05-14T09:39:47.562606Z"
    },
    "hidden": true
   },
   "outputs": [
    {
     "data": {
      "text/plain": [
       "Index(['Unnamed: 0', 'bodyType', 'brand', 'color', 'fuelType', 'modelDate',\n",
       "       'name', 'numberOfDoors', 'productionDate', 'vehicleConfiguration',\n",
       "       'engineDisplacement', 'enginePower', 'description', 'mileage',\n",
       "       'Комплектация', 'Привод', 'Руль', 'Владельцы', 'ПТС', 'Таможня',\n",
       "       'Владение', 'Price', 'sample'],\n",
       "      dtype='object')"
      ]
     },
     "execution_count": 112,
     "metadata": {},
     "output_type": "execute_result"
    }
   ],
   "source": [
    "train_set.columns"
   ]
  },
  {
   "cell_type": "code",
   "execution_count": 113,
   "metadata": {
    "ExecuteTime": {
     "end_time": "2020-05-14T09:39:47.865251Z",
     "start_time": "2020-05-14T09:39:47.571671Z"
    },
    "hidden": true
   },
   "outputs": [
    {
     "name": "stdout",
     "output_type": "stream",
     "text": [
      " MERCEDES      15070\n",
      "VOLKSWAGEN    14753\n",
      "BMW           14390\n",
      "NISSAN        13699\n",
      "TOYOTA        11901\n",
      "AUDI           8953\n",
      "MITSUBISHI     7849\n",
      "SKODA          7473\n",
      "VOLVO          4050\n",
      "HONDA          3578\n",
      "LEXUS          2782\n",
      "INFINITI       2540\n",
      "SUZUKI         2041\n",
      "Name: brand, dtype: int64\n"
     ]
    },
    {
     "data": {
      "text/plain": [
       "<matplotlib.axes._subplots.AxesSubplot at 0x1a25acba50>"
      ]
     },
     "execution_count": 113,
     "metadata": {},
     "output_type": "execute_result"
    },
    {
     "data": {
      "image/png": "[encoded data removed]",
      "text/plain": [
       "<Figure size 504x216 with 1 Axes>"
      ]
     },
     "metadata": {
      "needs_background": "light"
     },
     "output_type": "display_data"
    }
   ],
   "source": [
    "print('',train_set.brand.value_counts())\n",
    "train_set.modelDate.hist(figsize = (7,3))"
   ]
  },
  {
   "cell_type": "code",
   "execution_count": 114,
   "metadata": {
    "ExecuteTime": {
     "end_time": "2020-05-14T09:39:48.155574Z",
     "start_time": "2020-05-14T09:39:47.867420Z"
    },
    "hidden": true
   },
   "outputs": [
    {
     "data": {
      "text/plain": [
       "<matplotlib.axes._subplots.AxesSubplot at 0x1a211d09d0>"
      ]
     },
     "execution_count": 114,
     "metadata": {},
     "output_type": "execute_result"
    },
    {
     "data": {
      "image/png": "[encoded data removed]",
      "text/plain": [
       "<Figure size 504x216 with 1 Axes>"
      ]
     },
     "metadata": {
      "needs_background": "light"
     },
     "output_type": "display_data"
    }
   ],
   "source": [
    "train_set.query(\n",
    "    'name == \"35i 3.0 AT (306 л.с.) 4WD\" or name ==\"30d 3.0d AT (249 л.с.) 4WD\" or name == \"520i 2.0 AT (184 л.с.)\"'\n",
    ")['productionDate'].hist(figsize = (7,3))"
   ]
  },
  {
   "cell_type": "code",
   "execution_count": 115,
   "metadata": {
    "ExecuteTime": {
     "end_time": "2020-05-14T09:39:48.181419Z",
     "start_time": "2020-05-14T09:39:48.159842Z"
    },
    "hidden": true
   },
   "outputs": [
    {
     "data": {
      "text/plain": [
       "1.6        0.130511\n",
       "2.0        0.125964\n",
       "1.8        0.073681\n",
       "1.4        0.043207\n",
       "2.5        0.042868\n",
       "             ...   \n",
       "1.3d       0.000009\n",
       "94Ah       0.000009\n",
       "GT-Four    0.000009\n",
       "e-Golf     0.000009\n",
       "M340i      0.000009\n",
       "Name: engineDisplacement, Length: 431, dtype: float64"
      ]
     },
     "execution_count": 115,
     "metadata": {},
     "output_type": "execute_result"
    }
   ],
   "source": [
    "train_set.engineDisplacement.value_counts(normalize = True)"
   ]
  },
  {
   "cell_type": "markdown",
   "metadata": {
    "heading_collapsed": true
   },
   "source": [
    "# Features design"
   ]
  },
  {
   "cell_type": "code",
   "execution_count": 116,
   "metadata": {
    "ExecuteTime": {
     "end_time": "2020-05-14T09:39:48.739015Z",
     "start_time": "2020-05-14T09:39:48.184607Z"
    },
    "hidden": true
   },
   "outputs": [],
   "source": [
    "df.Владение.fillna('no_info', inplace = True)\n",
    "\n",
    "def period(data):\n",
    "    if data == \"no_info\":\n",
    "        return -1\n",
    "    elif \"{\" in data:\n",
    "        data = dict(ast.literal_eval(data))\n",
    "        data = data['month'] + (2020 - data['year'])*12\n",
    "        return data\n",
    "    else: \n",
    "        data = data.split(' ')\n",
    "        if \"лет\" or 'год' in data:\n",
    "            try:\n",
    "                return int(data[0])*12 + int(data[3])\n",
    "            except: \n",
    "                return int(data[0])*12\n",
    "            \n",
    "df['ownership_period'] = df.Владение.apply(period)\n",
    "\n",
    "del df['Владение']"
   ]
  },
  {
   "cell_type": "code",
   "execution_count": 117,
   "metadata": {
    "ExecuteTime": {
     "end_time": "2020-05-14T09:39:48.796187Z",
     "start_time": "2020-05-14T09:39:48.740934Z"
    },
    "hidden": true
   },
   "outputs": [],
   "source": [
    "del df['Таможня']\n",
    "del df['Unnamed: 0']\n",
    "del df['vehicleTransmission']\n",
    "\n",
    "\n",
    "fuels = {\n",
    "    \"бензин\": 1,\n",
    "    \"дизель\": 2,\n",
    "    \"гибрид\": 3,\n",
    "    \"электро\": 4,\n",
    "    \"газ\": 5,\n",
    "    \"внедорожник\": 6}\n",
    "\n",
    "df.fuelType = df.fuelType.map(fuels)"
   ]
  },
  {
   "cell_type": "markdown",
   "metadata": {
    "hidden": true
   },
   "source": [
    "\"country of origin\": Japan = 0 , Germany = 1 , Czech = 2 , Sweden = 3<br>\n",
    "\"EU-JPN\": EU = 0, JPN = 1"
   ]
  },
  {
   "cell_type": "code",
   "execution_count": 118,
   "metadata": {
    "ExecuteTime": {
     "end_time": "2020-05-14T09:39:48.815428Z",
     "start_time": "2020-05-14T09:39:48.797882Z"
    },
    "code_folding": [
     0
    ],
    "hidden": true
   },
   "outputs": [],
   "source": [
    "country = {\n",
    "    \"MERCEDES\": 1,\n",
    "    \"VOLKSWAGEN\": 1,\n",
    "    \"BMW\": 1,\n",
    "    \"NISSAN\": 0,\n",
    "    \"TOYOTA\": 0,\n",
    "    \"AUDI\": 1,\n",
    "    \"MITSUBISHI\": 0,\n",
    "    \"SKODA\": 2,\n",
    "    \"VOLVO\": 3,\n",
    "    \"HONDA\": 0,\n",
    "    \"LEXUS\": 0,\n",
    "    \"INFINITI\": 0,\n",
    "    \"SUZUKI\": 0\n",
    "}\n",
    "\n",
    "df['country'] = df.brand.map(country)\n",
    "df['EU-JPN'] = (df['country'] == 0).astype('int32')"
   ]
  },
  {
   "cell_type": "code",
   "execution_count": 119,
   "metadata": {
    "ExecuteTime": {
     "end_time": "2020-05-14T09:39:48.983037Z",
     "start_time": "2020-05-14T09:39:48.817251Z"
    },
    "code_folding": [
     2,
     4,
     6,
     8
    ],
    "hidden": true,
    "scrolled": false
   },
   "outputs": [],
   "source": [
    "# extract \"doors\" feature and \"bodytype\"\n",
    "def doors(bodyType):\n",
    "    if '2 дв' in bodyType:\n",
    "        return 2\n",
    "    elif '3 дв' in bodyType:\n",
    "        return 3    \n",
    "    elif '5 дв' in bodyType:\n",
    "        return 5\n",
    "    else: \n",
    "        return \"-1\"    \n",
    "df['doors'] = df['bodyType'].apply(doors)\n",
    "df['doors'] = df['doors'].astype('int32')\n",
    "\n",
    "df['body'] = df['bodyType'].apply(lambda x: x.lower().split(' ')[0])\n",
    "le = LabelEncoder()\n",
    "le.fit(df.body)\n",
    "df.body = le.transform(df.body)\n",
    "\n",
    "del df['bodyType']"
   ]
  },
  {
   "cell_type": "code",
   "execution_count": 120,
   "metadata": {
    "ExecuteTime": {
     "end_time": "2020-05-14T09:39:49.021748Z",
     "start_time": "2020-05-14T09:39:48.985058Z"
    },
    "hidden": true
   },
   "outputs": [],
   "source": [
    "le = LabelEncoder()\n",
    "le.fit(df.brand)\n",
    "df.brand = le.transform(df.brand)"
   ]
  },
  {
   "cell_type": "code",
   "execution_count": 121,
   "metadata": {
    "ExecuteTime": {
     "end_time": "2020-05-14T09:39:49.073333Z",
     "start_time": "2020-05-14T09:39:49.024173Z"
    },
    "code_folding": [
     0
    ],
    "hidden": true
   },
   "outputs": [],
   "source": [
    "colors = {\n",
    "    '040001':'чёрный',\n",
    "    'FAFBFB':'белый',\n",
    "    'CACECB':'серебристый',\n",
    "    '97948F':'серый',\n",
    "    '0000CC':'синий',\n",
    "    '200204':'коричневый',\n",
    "    'EE1D19':'красный',\n",
    "    '007F00':'зелёный',\n",
    "    'C49648':'бежевый',\n",
    "    '22A0F8':'голубой',\n",
    "    '660099':'пурпурный',\n",
    "    'DEA522':'золотистый',\n",
    "    '4A2197':'фиолетовый',\n",
    "    'FFD600':'жёлтый',\n",
    "    'FF8649':'оранжевый',\n",
    "    'FFC0CB':'розовый',\n",
    "    'чёрный':'чёрный',\n",
    "    'белый':'белый',\n",
    "    'синий':'синий',\n",
    "    'серый':'серый',\n",
    "    'коричневый':'коричневый',\n",
    "    'серебристый':'серебристый',\n",
    "    'красный':'красный',\n",
    "    'бежевый':'бежевый',\n",
    "    'голубой':'голубой',\n",
    "    'зелёный':'зелёный',\n",
    "    'оранжевый':'оранжевый',\n",
    "    'золотистый':'золотистый',\n",
    "    'пурпурный':'пурпурный',\n",
    "    'фиолетовый':'фиолетовый',\n",
    "    'жёлтый':'жёлтый'\n",
    "    }\n",
    "\n",
    "df.color = df.color.map(colors)\n",
    "\n",
    "le = LabelEncoder()\n",
    "le.fit(df.color)\n",
    "df.color = le.transform(df.color)"
   ]
  },
  {
   "cell_type": "code",
   "execution_count": 122,
   "metadata": {
    "ExecuteTime": {
     "end_time": "2020-05-14T09:39:49.197992Z",
     "start_time": "2020-05-14T09:39:49.075595Z"
    },
    "hidden": true
   },
   "outputs": [],
   "source": [
    "# \"hourse_power\" feature\n",
    "def hp(name):\n",
    "    try:\n",
    "        return int(name.split('(')[1].split(' ')[0])\n",
    "    except: \n",
    "        return '-1'\n",
    "\n",
    "df['hp'] = df.name.apply(hp)"
   ]
  },
  {
   "cell_type": "code",
   "execution_count": 123,
   "metadata": {
    "ExecuteTime": {
     "end_time": "2020-05-14T09:39:49.263381Z",
     "start_time": "2020-05-14T09:39:49.200077Z"
    },
    "hidden": true
   },
   "outputs": [],
   "source": [
    "# \"four_weel_driver\" feature\n",
    "def four_wd(name):\n",
    "    if '4wd' in name.lower():\n",
    "        return 1\n",
    "    else: return 0\n",
    "\n",
    "df['four_wd'] = df.name.apply(four_wd)"
   ]
  },
  {
   "cell_type": "code",
   "execution_count": 124,
   "metadata": {
    "ExecuteTime": {
     "end_time": "2020-05-14T09:41:48.660678Z",
     "start_time": "2020-05-14T09:39:49.266125Z"
    },
    "hidden": true
   },
   "outputs": [],
   "source": [
    "df['drive'] = None\n",
    "df['volume'] = None\n",
    "\n",
    "for i in range(len(df)):\n",
    "    try:\n",
    "        engine = re.search(r'\\d\\.\\d\\D', df.name[i]).group(0)\n",
    "        if 'd' in engine:\n",
    "            df.drive[i] = 1\n",
    "        else:\n",
    "            df.drive[i] = 0\n",
    "        df.volume[i] = engine[:-1]\n",
    "    except: \n",
    "        df.drive[i] = -1\n",
    "        df.volume[i] = -1\n",
    "        \n",
    "df.drive = df.drive.astype('int32')\n",
    "df.volume = df.volume.astype('float')"
   ]
  },
  {
   "cell_type": "code",
   "execution_count": 125,
   "metadata": {
    "ExecuteTime": {
     "end_time": "2020-05-14T09:42:46.112159Z",
     "start_time": "2020-05-14T09:41:48.664977Z"
    },
    "hidden": true
   },
   "outputs": [],
   "source": [
    "#transmition type\n",
    "df['transmition'] = 'no_info'\n",
    "\n",
    "for i in range (len(df.name)):\n",
    "        df['transmition'][i] = df.name[i].split('(')[0].split(' ')[-2]\n",
    "\n",
    "le = LabelEncoder()\n",
    "le.fit(df['transmition'])\n",
    "df['transmition'] = le.transform(df['transmition'])"
   ]
  },
  {
   "cell_type": "code",
   "execution_count": 126,
   "metadata": {
    "ExecuteTime": {
     "end_time": "2020-05-14T09:43:43.462641Z",
     "start_time": "2020-05-14T09:42:46.114364Z"
    },
    "hidden": true
   },
   "outputs": [],
   "source": [
    "#BWM model\n",
    "df['BMW_type'] = \"no_data\"\n",
    "for i in range(len(df)):\n",
    "    if df['brand'][i] == 'BMW':\n",
    "        df['BMW_type'][i] = df['name'][i].split(' ')[0]\n",
    "    else:\n",
    "        df['BMW_type'][i] = \"no_data\"\n",
    "        \n",
    "#BWM class\n",
    "df['BMW_class'] = 'no_data'\n",
    "for i in range(len(df)):\n",
    "    try:\n",
    "        df['BMW_class'][i] = re.search(r'\\d\\d\\d', df['BMW_type'][i]).group(0)[0]\n",
    "    except:\n",
    "        pass\n",
    "    \n",
    "le.fit(df['BMW_type'])\n",
    "df['BMW_type'] = le.transform(df['BMW_type'])\n",
    "\n",
    "le.fit(df['BMW_class'])\n",
    "df['BMW_class'] = le.transform(df['BMW_class'])\n",
    "\n",
    "del df['name']"
   ]
  },
  {
   "cell_type": "code",
   "execution_count": 127,
   "metadata": {
    "ExecuteTime": {
     "end_time": "2020-05-14T09:43:52.969614Z",
     "start_time": "2020-05-14T09:43:43.464838Z"
    },
    "hidden": true
   },
   "outputs": [],
   "source": [
    "#feature age\n",
    "current_year = 2020\n",
    "df['age'] = 0 \n",
    "\n",
    "for i in range(len(df)):\n",
    "    df['age'][i] = 2020 - df['productionDate'][i]"
   ]
  },
  {
   "cell_type": "markdown",
   "metadata": {
    "hidden": true
   },
   "source": [
    "признак hyb"
   ]
  },
  {
   "cell_type": "code",
   "execution_count": 128,
   "metadata": {
    "ExecuteTime": {
     "end_time": "2020-05-14T09:44:43.537935Z",
     "start_time": "2020-05-14T09:43:52.972336Z"
    },
    "hidden": true
   },
   "outputs": [],
   "source": [
    "for i in range(len(df)):\n",
    "    if 'MECHANICAL' in df.vehicleConfiguration[i]:\n",
    "        df.vehicleConfiguration[i] = 0\n",
    "    elif 'AUTOMATIC' in df.vehicleConfiguration[i]:\n",
    "        df.vehicleConfiguration[i] = 1\n",
    "    elif 'VARIATOR' in df.vehicleConfiguration[i]:\n",
    "        df.vehicleConfiguration[i] = 2\n",
    "    elif 'ROBOT' in df.vehicleConfiguration[i]:\n",
    "        df.vehicleConfiguration[i] = 3\n",
    "    else: \n",
    "        df.vehicleConfiguration[i] = -1\n",
    "        \n",
    "df.vehicleConfiguration = df.vehicleConfiguration.astype('int64')"
   ]
  },
  {
   "cell_type": "code",
   "execution_count": 129,
   "metadata": {
    "ExecuteTime": {
     "end_time": "2020-05-14T09:45:49.269294Z",
     "start_time": "2020-05-14T09:44:43.540337Z"
    },
    "code_folding": [
     5,
     7,
     9,
     11,
     13,
     15,
     17,
     19
    ],
    "hidden": true
   },
   "outputs": [],
   "source": [
    "# engine_type\n",
    "# ?probably to be revised\n",
    "#  letter to be found: h, hyb, LTR, i, e, si, xi, is, L, Li, Ld, other\n",
    "\n",
    "for i in range(len(df)):\n",
    "    if 'h' in df['engineDisplacement'][i]:\n",
    "        df['engineDisplacement'][i] = 1\n",
    "    elif 'LTR' in df['engineDisplacement'][i]:\n",
    "        df['engineDisplacement'][i] = 2\n",
    "    elif 'si' in df['engineDisplacement'][i]:\n",
    "        df['engineDisplacement'][i] = 3\n",
    "    elif 'xi' in df['engineDisplacement'][i]:\n",
    "        df['engineDisplacement'][i] = 4\n",
    "    elif 'is' in df['engineDisplacement'][i]:\n",
    "        df['engineDisplacement'][i] = 5    \n",
    "    elif 'Li' in df['engineDisplacement'][i]:\n",
    "        df['engineDisplacement'][i] = 6\n",
    "    elif 'Ld' in df['engineDisplacement'][i]:\n",
    "        df['engineDisplacement'][i] = 7\n",
    "    else:\n",
    "        df['engineDisplacement'][i] = -1\n",
    "\n",
    "df.engineDisplacement = df.engineDisplacement.astype('int64')"
   ]
  },
  {
   "cell_type": "code",
   "execution_count": 130,
   "metadata": {
    "ExecuteTime": {
     "end_time": "2020-05-14T09:45:53.796510Z",
     "start_time": "2020-05-14T09:45:49.278981Z"
    },
    "hidden": true
   },
   "outputs": [],
   "source": [
    "# engine_power\n",
    "df['n_type'] = 0\n",
    "for i in range(len(df)):\n",
    "    if \"N\" in str(df.enginePower[i]):\n",
    "        df.enginePower[i] = df.enginePower[i].split(' ')[0]\n",
    "        df.n_type[i] = 1\n",
    "    else: \n",
    "        pass\n",
    "    \n",
    "df.enginePower = df.enginePower.astype('int32')"
   ]
  },
  {
   "cell_type": "code",
   "execution_count": 131,
   "metadata": {
    "ExecuteTime": {
     "end_time": "2020-05-14T09:45:54.336088Z",
     "start_time": "2020-05-14T09:45:53.800157Z"
    },
    "hidden": true
   },
   "outputs": [],
   "source": [
    "df.Привод = df.Привод.map({'полный': 0, 'передний': 1, 'задний':2})\n",
    "\n",
    "df.Руль = df.Руль.map({'LEFT': 0, 'Левый': 0, 'RIGHT':1})\n",
    "\n",
    "df.ПТС = df.ПТС.map({'ORIGINAL': 0, 'DUPLICATE': 1, 'Оригинал':0, 'Дубликат':1 })\n",
    "\n",
    "df.Состояние = (df['Состояние'] == 'Не требует ремонта').astype('int32')\n",
    "\n",
    "# qnnty of owners:\n",
    "def owners(x):\n",
    "    x = str(x)\n",
    "    if  re.search(r'\\d\\s\\w+', x) == None:\n",
    "        return int(x[0])\n",
    "    else:\n",
    "        return int(x.split('в')[0][0])\n",
    "\n",
    "df.Владельцы.fillna('3', inplace = True)\n",
    "df.Владельцы = df.Владельцы.apply(owners)"
   ]
  },
  {
   "cell_type": "markdown",
   "metadata": {
    "hidden": true
   },
   "source": [
    "сделать отдельный признак \"те кто без описания\""
   ]
  },
  {
   "cell_type": "code",
   "execution_count": 132,
   "metadata": {
    "ExecuteTime": {
     "end_time": "2020-05-14T09:46:17.394509Z",
     "start_time": "2020-05-14T09:45:54.341631Z"
    },
    "code_folding": [
     2
    ],
    "hidden": true
   },
   "outputs": [],
   "source": [
    "# car features description\n",
    "\n",
    "features = [\n",
    "    'AUX', 'Android Auto', 'Bluetooth', 'CarPlay', 'USB',\n",
    "    'Автоматический корректор фар', 'Адаптивный круиз-контроль',\n",
    "    'Активная подвеска', 'Активный усилитель руля',\n",
    "    'Алькантара (Материал салона)', 'Антиблокировочная система (ABS)',\n",
    "    'Антипробуксовочная система (ASR)', 'Аудиоподготовка', 'Аудиосистема',\n",
    "    'Аудиосистема Hi-Fi', 'Аудиосистема с TV', 'Аэрография',\n",
    "    'Беспроводная зарядка для смартфона', 'Блокировка замков задних дверей',\n",
    "    'Бортовой компьютер', 'Бронированный кузов', 'Велюр (Материал салона)',\n",
    "    'Вентиляция задних сидений', 'Вентиляция передних сидений',\n",
    "    'Газобаллонное оборудование', 'Голосовое управление',\n",
    "    'Датчик давления в шинах', 'Датчик дождя',\n",
    "    'Датчик проникновения в салон (датчик объема)', 'Датчик света',\n",
    "    'Датчик усталости водителя', 'Декоративная подсветка салона',\n",
    "    'Декоративные молдинги', 'Декоративные накладки на педали', 'Диски 14',\n",
    "    'Диски 15', 'Диски 16', 'Диски 17', 'Диски 18', 'Диски 19', 'Диски 20',\n",
    "    'Диски 21', 'Диски 22', 'Дистанционный запуск двигателя',\n",
    "    'Дневные ходовые огни', 'Доводчик дверей', 'Докатка',\n",
    "    'Запуск двигателя с кнопки', 'Защита картера', 'Иммобилайзер',\n",
    "    'Искусственная кожа (Материал салона)', 'Камера 360°', 'Камера задняя',\n",
    "    'Камера передняя', 'Климат-контроль 1-зонный', 'Климат-контроль 2-зонный',\n",
    "    'Климат-контроль многозонный', 'Кожа (Материал салона)',\n",
    "    'Количество мест: 2', 'Количество мест: 4', 'Количество мест: 5',\n",
    "    'Количество мест: 6', 'Количество мест: 7',\n",
    "    'Комбинированный (Материал салона)', 'Кондиционер',\n",
    "    'Крепление детского кресла (задний ряд) ISOFIX',\n",
    "    'Крепление детского кресла (передний ряд) ISOFIX', 'Круиз-контроль',\n",
    "    'Ксеноновые/Биксеноновые фары', 'Лазерные фары',\n",
    "    'Ламинированные боковые стекла', 'Легкосплавные диски', 'Люк', 'Металлик',\n",
    "    'Мультимедиа система для задних пассажиров',\n",
    "    'Мультифункциональное рулевое колесо', 'Навигационная система',\n",
    "    'Накладки на пороги', 'Обвес кузова', 'Обогрев рулевого колеса',\n",
    "    'Омыватель фар', 'Отделка кожей рулевого колеса',\n",
    "    'Отделка кожей рычага КПП', 'Отделка потолка чёрной тканью',\n",
    "    'Открытие багажника без помощи рук', 'Охлаждаемый перчаточный ящик',\n",
    "    'Память передних сидений', 'Память сиденья водителя',\n",
    "    'Панорамная крыша / лобовое стекло', 'Парктроник задний',\n",
    "    'Парктроник передний', 'Передний центральный подлокотник',\n",
    "    'Пневмоподвеска', 'Подогрев задних сидений', 'Подогрев передних сидений',\n",
    "    'Подрулевые лепестки переключения передач',\n",
    "    'Подушка безопасности водителя',\n",
    "    'Подушка безопасности для защиты коленей водителя',\n",
    "    'Подушка безопасности пассажира', 'Подушки безопасности боковые',\n",
    "    'Подушки безопасности боковые задние',\n",
    "    'Подушки безопасности оконные (шторки)', 'Полноразмерное запасное колесо',\n",
    "    'Прикуриватель и пепельница', 'Программируемый предпусковой отопитель',\n",
    "    'Проекционный дисплей', 'Противотуманные фары',\n",
    "    'Регулировка передних сидений по высоте', 'Регулировка руля по вылету',\n",
    "    'Регулировка руля по высоте', 'Регулировка сиденья водителя по высоте',\n",
    "    'Регулируемый педальный узел', 'Рейлинги на крыше', 'Розетка 12V',\n",
    "    'Розетка 220V', 'Рулевая колонка с памятью положения', 'Светлый салон',\n",
    "    'Светодиодные фары', 'Сигнализация', 'Сигнализация с обратной связью',\n",
    "    'Сиденья с массажем', 'Система «старт-стоп»',\n",
    "    'Система автоматической парковки', 'Система адаптивного освещения',\n",
    "    'Система выбора режима движения', 'Система доступа без ключа',\n",
    "    'Система контроля за полосой движения', 'Система контроля слепых зон',\n",
    "    'Система ночного видения', 'Система помощи при спуске',\n",
    "    'Система помощи при старте в гору (HSA)',\n",
    "    'Система помощи при торможении (BAS, EBD)',\n",
    "    'Система предотвращения столкновения',\n",
    "    'Система распознавания дорожных знаков', 'Система стабилизации (ESP)',\n",
    "    'Система стабилизации рулевого управления (VSM)',\n",
    "    'Система управления дальним светом',\n",
    "    'Складной столик на спинках передних сидений',\n",
    "    'Складывающееся заднее сиденье', 'Солнцезащитная шторка на заднем стекле',\n",
    "    'Солнцезащитные шторки в задних дверях', 'Спортивная подвеска',\n",
    "    'Спортивные передние сиденья', 'Стальные диски', 'Ткань (Материал салона)',\n",
    "    'Тонированные стекла', 'Третий задний подголовник', 'Третий ряд сидений',\n",
    "    'Тёмный салон', 'Усилитель руля', 'Фаркоп',\n",
    "    'Функция складывания спинки сиденья пассажира', 'Центральный замок',\n",
    "    'ЭРА-ГЛОНАСС', 'Электронная приборная панель',\n",
    "    'Электрообогрев боковых зеркал', 'Электрообогрев зоны стеклоочистителей',\n",
    "    'Электрообогрев лобового стекла',\n",
    "    'Электрообогрев форсунок стеклоомывателей', 'Электропривод зеркал',\n",
    "    'Электропривод крышки багажника', 'Электрорегулировка задних сидений',\n",
    "    'Электрорегулировка передних сидений', 'Электрорегулировка руля',\n",
    "    'Электрорегулировка сиденья водителя', 'Электроскладывание зеркал',\n",
    "    'Электростеклоподъёмники задние', 'Электростеклоподъёмники передние',\n",
    "    'Яндекс.Авто'\n",
    "]\n",
    "\n",
    "def find_item(features, item):\n",
    "    features.find(item)\n",
    "    if features.find(item) > 0:\n",
    "        return 1\n",
    "    else: \n",
    "        return 0\n",
    "\n",
    "for item in features:\n",
    "    df[item] = df['Комплектация'].apply(find_item, item = item)\n",
    "\n",
    "del df['Комплектация']"
   ]
  },
  {
   "cell_type": "code",
   "execution_count": 133,
   "metadata": {
    "ExecuteTime": {
     "end_time": "2020-05-14T09:46:17.399486Z",
     "start_time": "2020-05-14T09:46:17.396330Z"
    },
    "hidden": true
   },
   "outputs": [],
   "source": [
    "#df.to_csv('DataSets/car_df.csv', index = False)"
   ]
  },
  {
   "cell_type": "markdown",
   "metadata": {},
   "source": [
    "# BaseLine modeling"
   ]
  },
  {
   "cell_type": "code",
   "execution_count": 134,
   "metadata": {
    "ExecuteTime": {
     "end_time": "2020-05-14T09:46:17.407795Z",
     "start_time": "2020-05-14T09:46:17.401989Z"
    }
   },
   "outputs": [],
   "source": [
    "#MAPE function\n",
    "\n",
    "def MAPE(y_true, y_pred): \n",
    "    return np.mean(np.abs((y_true - y_pred)/y_true))*100"
   ]
  },
  {
   "cell_type": "markdown",
   "metadata": {},
   "source": [
    "## XGBoost"
   ]
  },
  {
   "cell_type": "markdown",
   "metadata": {},
   "source": [
    "### XGBoost baseline"
   ]
  },
  {
   "cell_type": "code",
   "execution_count": 138,
   "metadata": {
    "ExecuteTime": {
     "end_time": "2020-05-14T09:53:02.294771Z",
     "start_time": "2020-05-14T09:51:44.301402Z"
    },
    "scrolled": true
   },
   "outputs": [
    {
     "name": "stdout",
     "output_type": "stream",
     "text": [
      "MAPE:  17.1667218208313\n",
      "RMSE:  435703.0268621042\n"
     ]
    },
    {
     "data": {
      "text/html": [
       "\n",
       "                <audio  controls=\"controls\" autoplay=\"autoplay\">\n",
       "                    <source src=\"https://freesound.org/data/previews/29/29589_215874-lq.mp3\" type=\"audio/mpeg\" />\n",
       "                    Your browser does not support the audio element.\n",
       "                </audio>\n",
       "              "
      ],
      "text/plain": [
       "<IPython.lib.display.Audio object>"
      ]
     },
     "metadata": {},
     "output_type": "display_data"
    },
    {
     "name": "stdout",
     "output_type": "stream",
     "text": [
      "CPU times: user 4min 34s, sys: 1.85 s, total: 4min 35s\n",
      "Wall time: 1min 17s\n"
     ]
    }
   ],
   "source": [
    "%%time\n",
    "import xgboost as xgb\n",
    "from sklearn.model_selection import train_test_split\n",
    "from sklearn.metrics import mean_squared_error\n",
    "import math\n",
    "\n",
    "X = df.query('sample == 1').drop(['sample', 'Price', 'description'], axis=1)\n",
    "y = df.query('sample == 1')['Price']\n",
    "\n",
    "random_state = 42\n",
    "X_train, X_test, y_train, y_test = train_test_split(X, y, train_size=0.8, random_state=random_state)\n",
    "\n",
    "xgb_model = xgb.XGBRegressor(objective ='reg:linear',\n",
    "                                learning_rate = 0.1,\n",
    "                                max_depth = 5,\n",
    "                                alpha = 10,\n",
    "                                n_estimators = 200,\n",
    "                                min_child_weight = 1,\n",
    "                                gamma = 0,\n",
    "                                subsample = 0.8,\n",
    "                                colsample_bytree=0.8,\n",
    "                                scale_pos_weight = 1, \n",
    "                                seed = random_state,\n",
    "                                \n",
    "                                nthread=-1,\n",
    "                                silent=1)\n",
    "\n",
    "xgb_model.fit(X_train,y_train)\n",
    "y_pred = xgb_model.predict(X_test)\n",
    "\n",
    "print(\"MAPE: \", MAPE(y_test, y_pred))\n",
    "print(\"RMSE: \", math.sqrt(mean_squared_error(y_test, y_pred)))\n",
    "\n",
    "allDone()"
   ]
  },
  {
   "cell_type": "code",
   "execution_count": 91,
   "metadata": {
    "ExecuteTime": {
     "end_time": "2020-05-12T18:48:17.938215Z",
     "start_time": "2020-05-12T18:48:17.288609Z"
    }
   },
   "outputs": [
    {
     "data": {
      "image/png": "[encoded data removed]",
      "text/plain": [
       "<Figure size 720x360 with 1 Axes>"
      ]
     },
     "metadata": {
      "needs_background": "light"
     },
     "output_type": "display_data"
    }
   ],
   "source": [
    "xgb.plot_importance(xgb_model)\n",
    "plt.rcParams['figure.figsize'] = [5, 5]\n",
    "plt.show()"
   ]
  },
  {
   "cell_type": "markdown",
   "metadata": {},
   "source": [
    "### XGBoost improvement"
   ]
  },
  {
   "cell_type": "markdown",
   "metadata": {
    "heading_collapsed": true
   },
   "source": [
    "#### n_estimators tuning"
   ]
  },
  {
   "cell_type": "code",
   "execution_count": 143,
   "metadata": {
    "ExecuteTime": {
     "end_time": "2020-05-14T15:34:28.559749Z",
     "start_time": "2020-05-14T14:17:21.875020Z"
    },
    "hidden": true
   },
   "outputs": [
    {
     "name": "stdout",
     "output_type": "stream",
     "text": [
      "n_estimators:  300\n",
      "MAPE:  16.44345074892044\n",
      "RMSE:  428082.7112405894\n",
      "n_estimators:  800\n",
      "MAPE:  14.795021712779999\n",
      "RMSE:  414679.17449447763\n",
      "n_estimators:  1300\n",
      "MAPE:  14.273104071617126\n",
      "RMSE:  411482.4858066879\n",
      "n_estimators:  1800\n",
      "MAPE:  13.993574678897858\n",
      "RMSE:  410308.8011349818\n",
      "n_estimators:  2300\n",
      "MAPE:  13.819056749343872\n",
      "RMSE:  410519.3004646956\n",
      "n_estimators:  2800\n",
      "MAPE:  13.713741302490234\n",
      "RMSE:  409187.5599454386\n",
      "n_estimators:  3300\n",
      "MAPE:  13.60560953617096\n",
      "RMSE:  411152.85589997744\n"
     ]
    },
    {
     "data": {
      "text/html": [
       "\n",
       "                <audio  controls=\"controls\" autoplay=\"autoplay\">\n",
       "                    <source src=\"https://freesound.org/data/previews/29/29589_215874-lq.mp3\" type=\"audio/mpeg\" />\n",
       "                    Your browser does not support the audio element.\n",
       "                </audio>\n",
       "              "
      ],
      "text/plain": [
       "<IPython.lib.display.Audio object>"
      ]
     },
     "metadata": {},
     "output_type": "display_data"
    },
    {
     "name": "stdout",
     "output_type": "stream",
     "text": [
      "CPU times: user 4h 45min 5s, sys: 44.6 s, total: 4h 45min 49s\n",
      "Wall time: 1h 17min 6s\n"
     ]
    }
   ],
   "source": [
    "%%time\n",
    "import xgboost as xgb\n",
    "from sklearn.model_selection import train_test_split\n",
    "from sklearn.metrics import mean_squared_error\n",
    "import math\n",
    "\n",
    "X = df.query('sample == 1').drop(['sample', 'Price', 'description'], axis=1)\n",
    "y = df.query('sample == 1')['Price']\n",
    "\n",
    "random_state = 42\n",
    "X_train, X_test, y_train, y_test = train_test_split(X, y, train_size=0.8, random_state=random_state)\n",
    "\n",
    "def xgb_model_train(n_estimators):\n",
    "    xgb_model = xgb.XGBRegressor(objective ='reg:linear',\n",
    "                                    learning_rate = 0.1,\n",
    "                                    max_depth = 5,\n",
    "                                    alpha = 10,\n",
    "                                    n_estimators = n_estimators,\n",
    "                                    min_child_weight = 1,\n",
    "                                    gamma = 0,\n",
    "                                    subsample = 0.8,\n",
    "                                    colsample_bytree=0.8,\n",
    "                                    scale_pos_weight = 1, \n",
    "                                    seed = random_state,\n",
    "\n",
    "                                    nthread=-1,\n",
    "                                    silent=1)\n",
    "    xgb_model.fit(X_train,y_train)\n",
    "    y_pred = xgb_model.predict(X_test)\n",
    "    print(\"n_estimators: \", n_estimators)\n",
    "    print(\"MAPE: \", MAPE(y_test, y_pred))\n",
    "    print(\"RMSE: \", math.sqrt(mean_squared_error(y_test, y_pred)))   \n",
    "    return\n",
    "\n",
    "for n_estimators in range(300, 3500, 500):\n",
    "    xgb_model_train(n_estimators)\n",
    "    \n",
    "allDone()"
   ]
  },
  {
   "cell_type": "markdown",
   "metadata": {
    "heading_collapsed": true
   },
   "source": [
    "#### max_depth & min_child_weight tuning"
   ]
  },
  {
   "cell_type": "code",
   "execution_count": 45,
   "metadata": {
    "ExecuteTime": {
     "end_time": "2020-05-12T10:55:32.842963Z",
     "start_time": "2020-05-12T10:55:32.838467Z"
    },
    "code_folding": [],
    "hidden": true
   },
   "outputs": [],
   "source": [
    "%%time\n",
    "param_test2 = {'max_depth':range(3,10,2),\n",
    "               'min_child_weight':range(1,6,2)}\n",
    "\n",
    "gsearch2 = GridSearchCV(estimator = xgb.XGBRegressor(objective ='reg:linear',\n",
    "                                learning_rate = 0.1,\n",
    "                                max_depth = 5,\n",
    "                                alpha = 10,\n",
    "                                n_estimators = 2300,\n",
    "                                min_child_weight = 1,\n",
    "                                gamma = 0,\n",
    "                                subsample = 0.8,\n",
    "                                colsample_bytree=0.8,\n",
    "                                scale_pos_weight = 1, \n",
    "                                seed = random_state,\n",
    "                                \n",
    "                                nthread=4,\n",
    "                                silent=1),\n",
    "                        param_grid = param_test2,\n",
    "                        scoring='neg_root_mean_squared_error')\n",
    "\n",
    "gsearch2.fit(X_train,y_train)\n",
    "\n",
    "print('RMSE: ', -max(gsearch2.cv_results_['mean_test_score']))\n",
    "index = gsearch2.cv_results_['mean_test_score'].tolist().index(max(gsearch2.cv_results_['mean_test_score']))\n",
    "print('params: ', gsearch2.cv_results_['params'][index])\n",
    "pd.Series(gsearch2.cv_results_['mean_test_score']).plot()\n",
    "\n",
    "allDone()"
   ]
  },
  {
   "cell_type": "markdown",
   "metadata": {
    "hidden": true
   },
   "source": [
    "best option is: max_depth = 5 & min_child_weight = 1<br>"
   ]
  },
  {
   "cell_type": "markdown",
   "metadata": {
    "heading_collapsed": true
   },
   "source": [
    "#### gamma tuning (Failed)"
   ]
  },
  {
   "cell_type": "code",
   "execution_count": 93,
   "metadata": {
    "ExecuteTime": {
     "end_time": "2020-05-13T00:20:05.656965Z",
     "start_time": "2020-05-12T19:09:47.590570Z"
    },
    "collapsed": true,
    "hidden": true
   },
   "outputs": [
    {
     "name": "stdout",
     "output_type": "stream",
     "text": [
      "[22:09:48] WARNING: src/objective/regression_obj.cu:152: reg:linear is now deprecated in favor of reg:squarederror.\n",
      "[22:21:05] WARNING: src/objective/regression_obj.cu:152: reg:linear is now deprecated in favor of reg:squarederror.\n",
      "[22:33:02] WARNING: src/objective/regression_obj.cu:152: reg:linear is now deprecated in favor of reg:squarederror.\n",
      "[22:44:42] WARNING: src/objective/regression_obj.cu:152: reg:linear is now deprecated in favor of reg:squarederror.\n",
      "[22:56:20] WARNING: src/objective/regression_obj.cu:152: reg:linear is now deprecated in favor of reg:squarederror.\n",
      "[23:09:00] WARNING: src/objective/regression_obj.cu:152: reg:linear is now deprecated in favor of reg:squarederror.\n",
      "[23:20:42] WARNING: src/objective/regression_obj.cu:152: reg:linear is now deprecated in favor of reg:squarederror.\n",
      "[23:31:58] WARNING: src/objective/regression_obj.cu:152: reg:linear is now deprecated in favor of reg:squarederror.\n",
      "[23:44:31] WARNING: src/objective/regression_obj.cu:152: reg:linear is now deprecated in favor of reg:squarederror.\n",
      "[23:59:16] WARNING: src/objective/regression_obj.cu:152: reg:linear is now deprecated in favor of reg:squarederror.\n",
      "[00:13:44] WARNING: src/objective/regression_obj.cu:152: reg:linear is now deprecated in favor of reg:squarederror.\n",
      "[00:27:50] WARNING: src/objective/regression_obj.cu:152: reg:linear is now deprecated in favor of reg:squarederror.\n",
      "[00:42:42] WARNING: src/objective/regression_obj.cu:152: reg:linear is now deprecated in favor of reg:squarederror.\n",
      "[00:57:21] WARNING: src/objective/regression_obj.cu:152: reg:linear is now deprecated in favor of reg:squarederror.\n",
      "[01:08:20] WARNING: src/objective/regression_obj.cu:152: reg:linear is now deprecated in favor of reg:squarederror.\n",
      "[01:19:26] WARNING: src/objective/regression_obj.cu:152: reg:linear is now deprecated in favor of reg:squarederror.\n",
      "[01:30:46] WARNING: src/objective/regression_obj.cu:152: reg:linear is now deprecated in favor of reg:squarederror.\n",
      "[01:41:31] WARNING: src/objective/regression_obj.cu:152: reg:linear is now deprecated in favor of reg:squarederror.\n",
      "[01:52:10] WARNING: src/objective/regression_obj.cu:152: reg:linear is now deprecated in favor of reg:squarederror.\n",
      "[02:02:55] WARNING: src/objective/regression_obj.cu:152: reg:linear is now deprecated in favor of reg:squarederror.\n",
      "[02:13:32] WARNING: src/objective/regression_obj.cu:152: reg:linear is now deprecated in favor of reg:squarederror.\n",
      "[02:24:09] WARNING: src/objective/regression_obj.cu:152: reg:linear is now deprecated in favor of reg:squarederror.\n",
      "[02:34:48] WARNING: src/objective/regression_obj.cu:152: reg:linear is now deprecated in favor of reg:squarederror.\n",
      "[02:45:27] WARNING: src/objective/regression_obj.cu:152: reg:linear is now deprecated in favor of reg:squarederror.\n",
      "[02:56:04] WARNING: src/objective/regression_obj.cu:152: reg:linear is now deprecated in favor of reg:squarederror.\n",
      "[03:06:50] WARNING: src/objective/regression_obj.cu:152: reg:linear is now deprecated in favor of reg:squarederror.\n",
      "RMSE:  517665.20967699855\n",
      "params:  {'gamma': 0.0}\n"
     ]
    },
    {
     "data": {
      "text/html": [
       "\n",
       "                <audio  controls=\"controls\" autoplay=\"autoplay\">\n",
       "                    <source src=\"https://freesound.org/data/previews/29/29589_215874-lq.mp3\" type=\"audio/mpeg\" />\n",
       "                    Your browser does not support the audio element.\n",
       "                </audio>\n",
       "              "
      ],
      "text/plain": [
       "<IPython.lib.display.Audio object>"
      ]
     },
     "metadata": {},
     "output_type": "display_data"
    },
    {
     "name": "stdout",
     "output_type": "stream",
     "text": [
      "CPU times: user 18h 2min 3s, sys: 4min 15s, total: 18h 6min 18s\n",
      "Wall time: 5h 10min 17s\n"
     ]
    },
    {
     "data": {
      "image/png": "[encoded data removed]",
      "text/plain": [
       "<Figure size 360x360 with 1 Axes>"
      ]
     },
     "metadata": {
      "needs_background": "light"
     },
     "output_type": "display_data"
    }
   ],
   "source": [
    "%%time\n",
    "from sklearn.model_selection import GridSearchCV\n",
    "\n",
    "param_test3 = {'gamma':[i/10.0 for i in range(0,5)]}\n",
    "\n",
    "gsearch3 = GridSearchCV(estimator = xgb.XGBRegressor(objective ='reg:linear',\n",
    "                                learning_rate = 0.1,\n",
    "                                max_depth = 5,\n",
    "                                alpha = 10,\n",
    "                                n_estimators = 2300,\n",
    "                                min_child_weight = 1,\n",
    "                                gamma = 0,\n",
    "                                subsample = 0.8,\n",
    "                                colsample_bytree=0.8,\n",
    "                                scale_pos_weight = 1, \n",
    "                                seed = random_state,\n",
    "                                \n",
    "                                nthread=4,\n",
    "                                silent=0),\n",
    "                        param_grid = param_test3,\n",
    "                        scoring='neg_root_mean_squared_error')\n",
    "\n",
    "gsearch3.fit(X_train,y_train)\n",
    "\n",
    "print('RMSE: ', -max(gsearch3.cv_results_['mean_test_score']))\n",
    "index = gsearch3.cv_results_['mean_test_score'].tolist().index(max(gsearch3.cv_results_['mean_test_score']))\n",
    "print('params: ', gsearch3.cv_results_['params'][index])\n",
    "pd.Series(gsearch3.cv_results_['mean_test_score']).plot()\n",
    "\n",
    "allDone()"
   ]
  },
  {
   "cell_type": "markdown",
   "metadata": {
    "heading_collapsed": true
   },
   "source": [
    "#### subsample & colsample_bytree tuning"
   ]
  },
  {
   "cell_type": "code",
   "execution_count": 98,
   "metadata": {
    "ExecuteTime": {
     "end_time": "2020-05-13T11:32:19.443606Z",
     "start_time": "2020-05-13T09:55:48.536124Z"
    },
    "code_folding": [],
    "hidden": true
   },
   "outputs": [
    {
     "name": "stdout",
     "output_type": "stream",
     "text": [
      "RMSE:  523230.56172694033\n",
      "params:  {'colsample_bytree': 0.92, 'subsample': 0.98}\n"
     ]
    },
    {
     "data": {
      "text/html": [
       "\n",
       "                <audio  controls=\"controls\" autoplay=\"autoplay\">\n",
       "                    <source src=\"https://freesound.org/data/previews/29/29589_215874-lq.mp3\" type=\"audio/mpeg\" />\n",
       "                    Your browser does not support the audio element.\n",
       "                </audio>\n",
       "              "
      ],
      "text/plain": [
       "<IPython.lib.display.Audio object>"
      ]
     },
     "metadata": {},
     "output_type": "display_data"
    },
    {
     "name": "stdout",
     "output_type": "stream",
     "text": [
      "CPU times: user 5h 26min 44s, sys: 1min 31s, total: 5h 28min 16s\n",
      "Wall time: 1h 36min 30s\n"
     ]
    },
    {
     "data": {
      "image/png": "[encoded data removed]",
      "text/plain": [
       "<Figure size 360x360 with 1 Axes>"
      ]
     },
     "metadata": {
      "needs_background": "light"
     },
     "output_type": "display_data"
    }
   ],
   "source": [
    "%%time\n",
    "param_test4 = {\n",
    " 'subsample':[0.92, 0.94, 0.96, 0.98],\n",
    " 'colsample_bytree':[0.92, 0.94, 0.96, 0.98]\n",
    "}\n",
    "\n",
    "gsearch4 = GridSearchCV(estimator = xgb.XGBRegressor(objective ='reg:linear',\n",
    "                                learning_rate = 0.1,\n",
    "                                max_depth = 5,\n",
    "                                alpha = 10,\n",
    "                                n_estimators = 200,\n",
    "                                min_child_weight = 1,\n",
    "                                gamma = 0,\n",
    "                                subsample = 0.8,\n",
    "                                colsample_bytree=0.8,\n",
    "                                scale_pos_weight = 1, \n",
    "                                seed = random_state,\n",
    "                                \n",
    "                                nthread=4,\n",
    "                                silent=1),\n",
    "                        param_grid = param_test4,\n",
    "                        scoring='neg_root_mean_squared_error')\n",
    "\n",
    "gsearch4.fit(X_train,y_train)\n",
    "\n",
    "print('RMSE: ', -max(gsearch4.cv_results_['mean_test_score']))\n",
    "index = gsearch4.cv_results_['mean_test_score'].tolist().index(max(gsearch4.cv_results_['mean_test_score']))\n",
    "print('params: ', gsearch4.cv_results_['params'][index])\n",
    "pd.Series(gsearch4.cv_results_['mean_test_score']).plot()\n",
    "\n",
    "allDone()"
   ]
  },
  {
   "cell_type": "code",
   "execution_count": 99,
   "metadata": {
    "ExecuteTime": {
     "end_time": "2020-05-13T12:09:56.317160Z",
     "start_time": "2020-05-13T11:35:19.296564Z"
    },
    "hidden": true
   },
   "outputs": [
    {
     "name": "stdout",
     "output_type": "stream",
     "text": [
      "RMSE:  521939.68754435953\n",
      "params:  {'colsample_bytree': 0.94, 'subsample': 0.99}\n",
      "CPU times: user 2h 3min 5s, sys: 32.2 s, total: 2h 3min 37s\n",
      "Wall time: 34min 36s\n"
     ]
    },
    {
     "data": {
      "text/plain": [
       "<matplotlib.axes._subplots.AxesSubplot at 0x1a26795690>"
      ]
     },
     "execution_count": 99,
     "metadata": {},
     "output_type": "execute_result"
    },
    {
     "data": {
      "image/png": "[encoded data removed]",
      "text/plain": [
       "<Figure size 360x360 with 1 Axes>"
      ]
     },
     "metadata": {
      "needs_background": "light"
     },
     "output_type": "display_data"
    }
   ],
   "source": [
    "%%time\n",
    "param_test4 = {\n",
    " 'subsample':[0.98, 0.99],\n",
    " 'colsample_bytree':[0.91, 0.92, 0.94]\n",
    "}\n",
    "\n",
    "gsearch4 = GridSearchCV(estimator = xgb.XGBRegressor(objective ='reg:linear',\n",
    "                                learning_rate = 0.1,\n",
    "                                max_depth = 5,\n",
    "                                alpha = 10,\n",
    "                                n_estimators = 200,\n",
    "                                min_child_weight = 1,\n",
    "                                gamma = 0,\n",
    "                                subsample = 0.8,\n",
    "                                colsample_bytree=0.8,\n",
    "                                scale_pos_weight = 1, \n",
    "                                seed = random_state,\n",
    "                                \n",
    "                                nthread=4,\n",
    "                                silent=1),\n",
    "                        param_grid = param_test4,\n",
    "                        scoring='neg_root_mean_squared_error')\n",
    "\n",
    "gsearch4.fit(X_train,y_train)\n",
    "\n",
    "print('RMSE: ', -max(gsearch4.cv_results_['mean_test_score']))\n",
    "index = gsearch4.cv_results_['mean_test_score'].tolist().index(max(gsearch4.cv_results_['mean_test_score']))\n",
    "print('params: ', gsearch4.cv_results_['params'][index])\n",
    "pd.Series(gsearch4.cv_results_['mean_test_score']).plot()"
   ]
  },
  {
   "cell_type": "markdown",
   "metadata": {
    "heading_collapsed": true
   },
   "source": [
    "#### Step 5: Tuning Regularization Parameters"
   ]
  },
  {
   "cell_type": "code",
   "execution_count": 103,
   "metadata": {
    "ExecuteTime": {
     "end_time": "2020-05-13T20:09:54.426520Z",
     "start_time": "2020-05-13T13:11:24.712990Z"
    },
    "hidden": true
   },
   "outputs": [
    {
     "name": "stdout",
     "output_type": "stream",
     "text": [
      "RMSE:  504690.8928702511\n",
      "params:  {'colsample_bytree': 0.94, 'subsample': 0.99}\n",
      "CPU times: user 23h 17min 33s, sys: 6min 5s, total: 23h 23min 38s\n",
      "Wall time: 6h 58min 29s\n"
     ]
    },
    {
     "data": {
      "text/plain": [
       "<matplotlib.axes._subplots.AxesSubplot at 0x1a23b65a90>"
      ]
     },
     "execution_count": 103,
     "metadata": {},
     "output_type": "execute_result"
    },
    {
     "data": {
      "image/png": "[encoded data removed]",
      "text/plain": [
       "<Figure size 360x360 with 1 Axes>"
      ]
     },
     "metadata": {
      "needs_background": "light"
     },
     "output_type": "display_data"
    }
   ],
   "source": [
    "%%time\n",
    "param_test5 = {\n",
    " 'subsample':[0.98, 0.99],\n",
    " 'colsample_bytree':[0.91, 0.92, 0.94]\n",
    "}\n",
    "\n",
    "gsearch5 = GridSearchCV(estimator = xgb.XGBRegressor(objective ='reg:linear',\n",
    "                                learning_rate = 0.1,\n",
    "                                max_depth = 5,\n",
    "                                alpha = 10,\n",
    "                                n_estimators = 2300,\n",
    "                                min_child_weight = 1,\n",
    "                                gamma = 0,\n",
    "                                subsample = 0.99,\n",
    "                                colsample_bytree=0.94,\n",
    "                                scale_pos_weight = 1, \n",
    "                                seed = random_state,\n",
    "                                \n",
    "                                nthread=4,\n",
    "                                silent=1),\n",
    "                        param_grid = param_test5,\n",
    "                        scoring='neg_root_mean_squared_error')\n",
    "\n",
    "gsearch5.fit(X_train,y_train)\n",
    "\n",
    "print('RMSE: ', -max(gsearch5.cv_results_['mean_test_score']))\n",
    "index = gsearch5.cv_results_['mean_test_score'].tolist().index(max(gsearch5.cv_results_['mean_test_score']))\n",
    "print('params: ', gsearch5.cv_results_['params'][index])\n",
    "pd.Series(gsearch5.cv_results_['mean_test_score']).plot()"
   ]
  },
  {
   "cell_type": "markdown",
   "metadata": {},
   "source": [
    "#### test of the best parametrs found so far"
   ]
  },
  {
   "cell_type": "code",
   "execution_count": 144,
   "metadata": {
    "ExecuteTime": {
     "end_time": "2020-05-14T16:17:19.057919Z",
     "start_time": "2020-05-14T15:55:44.784017Z"
    }
   },
   "outputs": [
    {
     "name": "stdout",
     "output_type": "stream",
     "text": [
      "MAPE:  13.202692568302155\n",
      "RMSE:  406413.63352952746\n"
     ]
    },
    {
     "data": {
      "text/html": [
       "\n",
       "                <audio  controls=\"controls\" autoplay=\"autoplay\">\n",
       "                    <source src=\"https://freesound.org/data/previews/29/29589_215874-lq.mp3\" type=\"audio/mpeg\" />\n",
       "                    Your browser does not support the audio element.\n",
       "                </audio>\n",
       "              "
      ],
      "text/plain": [
       "<IPython.lib.display.Audio object>"
      ]
     },
     "metadata": {},
     "output_type": "display_data"
    },
    {
     "name": "stdout",
     "output_type": "stream",
     "text": [
      "CPU times: user 1h 20min 37s, sys: 10 s, total: 1h 20min 47s\n",
      "Wall time: 21min 34s\n"
     ]
    }
   ],
   "source": [
    "%%time\n",
    "import xgboost as xgb\n",
    "from sklearn.model_selection import train_test_split\n",
    "from sklearn.metrics import mean_squared_error\n",
    "import math\n",
    "\n",
    "X = df.query('sample == 1').drop(['sample', 'Price', 'description'], axis=1)\n",
    "y = df.query('sample == 1')['Price']\n",
    "\n",
    "random_state = 42\n",
    "X_train, X_test, y_train, y_test = train_test_split(X, y, train_size=0.8, random_state=random_state)\n",
    "\n",
    "xgb_model = xgb.XGBRegressor(objective ='reg:linear',\n",
    "                                    learning_rate = 0.1,\n",
    "                                    max_depth = 5,\n",
    "                                    alpha = 10,\n",
    "                                    n_estimators = 3300,\n",
    "                                    min_child_weight = 1,\n",
    "                                    gamma = 0,\n",
    "                                    subsample = 0.98,\n",
    "                                    colsample_bytree=0.92,\n",
    "                                    scale_pos_weight = 1, \n",
    "                                    seed = random_state,\n",
    "\n",
    "                                    nthread=-1,\n",
    "                                    silent=1)\n",
    "xgb_model.fit(X_train,y_train)\n",
    "y_pred = xgb_model.predict(X_test)\n",
    "print(\"MAPE: \", MAPE(y_test, y_pred))\n",
    "print(\"RMSE: \", math.sqrt(mean_squared_error(y_test, y_pred)))   \n",
    "\n",
    "allDone()\n"
   ]
  },
  {
   "cell_type": "markdown",
   "metadata": {},
   "source": []
  },
  {
   "cell_type": "markdown",
   "metadata": {},
   "source": []
  },
  {
   "cell_type": "markdown",
   "metadata": {
    "heading_collapsed": true
   },
   "source": [
    "# Kaggle Modeling"
   ]
  },
  {
   "cell_type": "code",
   "execution_count": 30,
   "metadata": {
    "ExecuteTime": {
     "end_time": "2020-05-08T16:47:32.070621Z",
     "start_time": "2020-05-08T16:47:32.067480Z"
    },
    "hidden": true
   },
   "outputs": [],
   "source": [
    "# new_data = df.query('sample == 1').drop(['sample'], axis=1)"
   ]
  },
  {
   "cell_type": "code",
   "execution_count": 31,
   "metadata": {
    "ExecuteTime": {
     "end_time": "2020-05-08T16:47:32.078150Z",
     "start_time": "2020-05-08T16:47:32.074403Z"
    },
    "hidden": true
   },
   "outputs": [],
   "source": [
    "# def baseline_model(df_model):\n",
    "#     X = df_model.query('sample == 1').drop(['sample','Rating'], axis=1)\n",
    "#     y = df_model.query('sample == 1')['Rating']\n",
    "\n",
    "#     X_train, X_test, y_train, y_test = train_test_split(X, y, test_size=0.25, random_state = 42)\n",
    "\n",
    "#     model = RandomForestRegressor(n_estimators=100, verbose=1, n_jobs=-1, random_state=42)\n",
    "#     model.fit(X_train, y_train)\n",
    "\n",
    "#     y_pred = model.predict(X_test)\n",
    "\n",
    "#     for i in range(y_pred.size):\n",
    "#         y_pred[i]=rating(y_pred[i])\n",
    "\n",
    "#     mae = round(metrics.mean_absolute_error(y_test, y_pred),4)\n",
    "#     print('MAE:', mae)\n",
    "\n",
    "#     #plot the most valuable features\n",
    "#     plt.rcParams['figure.figsize'] = (5,5)\n",
    "#     feat_importances = pd.Series(model.feature_importances_, index=X.columns)\n",
    "#     feat_importances.nlargest(25).plot(kind='barh')\n",
    "    \n",
    "#     return"
   ]
  }
 ],
 "metadata": {
  "kernelspec": {
   "display_name": "Python 3",
   "language": "python",
   "name": "python3"
  },
  "language_info": {
   "codemirror_mode": {
    "name": "ipython",
    "version": 3
   },
   "file_extension": ".py",
   "mimetype": "text/x-python",
   "name": "python",
   "nbconvert_exporter": "python",
   "pygments_lexer": "ipython3",
   "version": "3.7.6"
  },
  "toc": {
   "base_numbering": 1,
   "nav_menu": {},
   "number_sections": true,
   "sideBar": true,
   "skip_h1_title": false,
   "title_cell": "Table of Contents",
   "title_sidebar": "Contents",
   "toc_cell": false,
   "toc_position": {},
   "toc_section_display": true,
   "toc_window_display": false
  },
  "varInspector": {
   "cols": {
    "lenName": 16,
    "lenType": 16,
    "lenVar": 40
   },
   "kernels_config": {
    "python": {
     "delete_cmd_postfix": "",
     "delete_cmd_prefix": "del ",
     "library": "var_list.py",
     "varRefreshCmd": "print(var_dic_list())"
    },
    "r": {
     "delete_cmd_postfix": ") ",
     "delete_cmd_prefix": "rm(",
     "library": "var_list.r",
     "varRefreshCmd": "cat(var_dic_list()) "
    }
   },
   "position": {
    "height": "382.85px",
    "left": "1072px",
    "right": "20px",
    "top": "121px",
    "width": "350px"
   },
   "types_to_exclude": [
    "module",
    "function",
    "builtin_function_or_method",
    "instance",
    "_Feature"
   ],
   "window_display": false
  }
 },
 "nbformat": 4,
 "nbformat_minor": 4
}
